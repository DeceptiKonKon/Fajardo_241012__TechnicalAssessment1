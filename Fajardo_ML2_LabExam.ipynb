{
  "nbformat": 4,
  "nbformat_minor": 0,
  "metadata": {
    "colab": {
      "provenance": []
    },
    "kernelspec": {
      "name": "python3",
      "display_name": "Python 3"
    },
    "language_info": {
      "name": "python"
    }
  },
  "cells": [
    {
      "cell_type": "code",
      "execution_count": 149,
      "metadata": {
        "id": "Uc6bmYBH9otA",
        "colab": {
          "base_uri": "https://localhost:8080/"
        },
        "outputId": "a975bfef-b856-4555-a064-f4b859c179e6"
      },
      "outputs": [
        {
          "output_type": "stream",
          "name": "stdout",
          "text": [
            "Requirement already satisfied: transformers in /usr/local/lib/python3.10/dist-packages (4.44.2)\n",
            "Requirement already satisfied: torch in /usr/local/lib/python3.10/dist-packages (2.4.1+cu121)\n",
            "Requirement already satisfied: nltk in /usr/local/lib/python3.10/dist-packages (3.8.1)\n",
            "Requirement already satisfied: flask in /usr/local/lib/python3.10/dist-packages (2.2.5)\n",
            "Requirement already satisfied: filelock in /usr/local/lib/python3.10/dist-packages (from transformers) (3.16.1)\n",
            "Requirement already satisfied: huggingface-hub<1.0,>=0.23.2 in /usr/local/lib/python3.10/dist-packages (from transformers) (0.24.7)\n",
            "Requirement already satisfied: numpy>=1.17 in /usr/local/lib/python3.10/dist-packages (from transformers) (1.26.4)\n",
            "Requirement already satisfied: packaging>=20.0 in /usr/local/lib/python3.10/dist-packages (from transformers) (24.1)\n",
            "Requirement already satisfied: pyyaml>=5.1 in /usr/local/lib/python3.10/dist-packages (from transformers) (6.0.2)\n",
            "Requirement already satisfied: regex!=2019.12.17 in /usr/local/lib/python3.10/dist-packages (from transformers) (2024.9.11)\n",
            "Requirement already satisfied: requests in /usr/local/lib/python3.10/dist-packages (from transformers) (2.32.3)\n",
            "Requirement already satisfied: safetensors>=0.4.1 in /usr/local/lib/python3.10/dist-packages (from transformers) (0.4.5)\n",
            "Requirement already satisfied: tokenizers<0.20,>=0.19 in /usr/local/lib/python3.10/dist-packages (from transformers) (0.19.1)\n",
            "Requirement already satisfied: tqdm>=4.27 in /usr/local/lib/python3.10/dist-packages (from transformers) (4.66.5)\n",
            "Requirement already satisfied: typing-extensions>=4.8.0 in /usr/local/lib/python3.10/dist-packages (from torch) (4.12.2)\n",
            "Requirement already satisfied: sympy in /usr/local/lib/python3.10/dist-packages (from torch) (1.13.3)\n",
            "Requirement already satisfied: networkx in /usr/local/lib/python3.10/dist-packages (from torch) (3.3)\n",
            "Requirement already satisfied: jinja2 in /usr/local/lib/python3.10/dist-packages (from torch) (3.1.4)\n",
            "Requirement already satisfied: fsspec in /usr/local/lib/python3.10/dist-packages (from torch) (2024.6.1)\n",
            "Requirement already satisfied: click in /usr/local/lib/python3.10/dist-packages (from nltk) (8.1.7)\n",
            "Requirement already satisfied: joblib in /usr/local/lib/python3.10/dist-packages (from nltk) (1.4.2)\n",
            "Requirement already satisfied: Werkzeug>=2.2.2 in /usr/local/lib/python3.10/dist-packages (from flask) (3.0.4)\n",
            "Requirement already satisfied: itsdangerous>=2.0 in /usr/local/lib/python3.10/dist-packages (from flask) (2.2.0)\n",
            "Requirement already satisfied: MarkupSafe>=2.0 in /usr/local/lib/python3.10/dist-packages (from jinja2->torch) (2.1.5)\n",
            "Requirement already satisfied: charset-normalizer<4,>=2 in /usr/local/lib/python3.10/dist-packages (from requests->transformers) (3.3.2)\n",
            "Requirement already satisfied: idna<4,>=2.5 in /usr/local/lib/python3.10/dist-packages (from requests->transformers) (3.10)\n",
            "Requirement already satisfied: urllib3<3,>=1.21.1 in /usr/local/lib/python3.10/dist-packages (from requests->transformers) (2.2.3)\n",
            "Requirement already satisfied: certifi>=2017.4.17 in /usr/local/lib/python3.10/dist-packages (from requests->transformers) (2024.8.30)\n",
            "Requirement already satisfied: mpmath<1.4,>=1.1.0 in /usr/local/lib/python3.10/dist-packages (from sympy->torch) (1.3.0)\n"
          ]
        }
      ],
      "source": [
        "!pip install transformers torch nltk flask\n"
      ]
    },
    {
      "cell_type": "code",
      "source": [
        "from transformers import pipeline\n",
        "\n",
        "intent_model = pipeline(\"zero-shot-classification\")\n",
        "\n",
        "entity_model = pipeline(\"ner\", aggregation_strategy=\"simple\")\n"
      ],
      "metadata": {
        "colab": {
          "base_uri": "https://localhost:8080/"
        },
        "id": "LDgiPWQkQJic",
        "outputId": "e615dfd0-b06a-4c8e-a8ed-0efbf6721b32"
      },
      "execution_count": 150,
      "outputs": [
        {
          "output_type": "stream",
          "name": "stderr",
          "text": [
            "No model was supplied, defaulted to facebook/bart-large-mnli and revision c626438 (https://huggingface.co/facebook/bart-large-mnli).\n",
            "Using a pipeline without specifying a model name and revision in production is not recommended.\n",
            "No model was supplied, defaulted to dbmdz/bert-large-cased-finetuned-conll03-english and revision f2482bf (https://huggingface.co/dbmdz/bert-large-cased-finetuned-conll03-english).\n",
            "Using a pipeline without specifying a model name and revision in production is not recommended.\n",
            "Some weights of the model checkpoint at dbmdz/bert-large-cased-finetuned-conll03-english were not used when initializing BertForTokenClassification: ['bert.pooler.dense.bias', 'bert.pooler.dense.weight']\n",
            "- This IS expected if you are initializing BertForTokenClassification from the checkpoint of a model trained on another task or with another architecture (e.g. initializing a BertForSequenceClassification model from a BertForPreTraining model).\n",
            "- This IS NOT expected if you are initializing BertForTokenClassification from the checkpoint of a model that you expect to be exactly identical (initializing a BertForSequenceClassification model from a BertForSequenceClassification model).\n"
          ]
        }
      ]
    },
    {
      "cell_type": "code",
      "source": [
        "import json\n",
        "\n",
        "def build_entity_types_mapping(dataset):\n",
        "    entity_types = {}\n",
        "\n",
        "    for entry in dataset:\n",
        "        for entity_key, entity_value in entry['entities'].items():\n",
        "            entity_type = entity_key\n",
        "            if isinstance(entity_value, list):\n",
        "                for value in entity_value:\n",
        "                    if value not in entity_types:\n",
        "                        entity_types[value] = entity_type\n",
        "            else:\n",
        "                if entity_value not in entity_types:\n",
        "                    entity_types[entity_value] = entity_type\n",
        "\n",
        "    return entity_types\n",
        "\n",
        "with open('conver_data.json', 'r') as f:\n",
        "    dataset = json.load(f)\n",
        "entity_types = build_entity_types_mapping(dataset)\n",
        "\n",
        "print(dataset)\n",
        "print(entity_types)\n"
      ],
      "metadata": {
        "colab": {
          "base_uri": "https://localhost:8080/"
        },
        "id": "bCqzfb7TQIm6",
        "outputId": "9d60acb3-666c-4d0e-d711-4b32e61521d6"
      },
      "execution_count": 155,
      "outputs": [
        {
          "output_type": "stream",
          "name": "stdout",
          "text": [
            "[{'user_input': 'What are some must-read horror comics?', 'intent': 'recommend_comic', 'entities': {'genre': 'horror'}}, {'user_input': \"I'm in the mood for adventure comics. Any suggestions?\", 'intent': 'recommend_comic', 'entities': {'genre': 'adventure'}}, {'user_input': 'Can you recommend some heartfelt romance comics?', 'intent': 'recommend_comic', 'entities': {'genre': 'romance'}}, {'user_input': \"I'd love to see some captivating melodrama comics. What do you suggest?\", 'intent': 'recommend_comic', 'entities': {'genre': 'melodrama'}}, {'user_input': 'What are some intriguing fiction comics I should check out?', 'intent': 'recommend_comic', 'entities': {'genre': 'fiction'}}, {'user_input': 'Are there any great non-fiction comics you can recommend?', 'intent': 'recommend_comic', 'entities': {'genre': 'non-fiction'}}, {'user_input': 'I’m interested in fantasy comics. What do you recommend?', 'intent': 'recommend_comic', 'entities': {'genre': 'fantasy'}}, {'user_input': 'Suggest some exciting science fiction comics for me, please.', 'intent': 'recommend_comic', 'entities': {'genre': 'science fiction'}}, {'user_input': 'What mystery comics would you recommend for a thrilling read?', 'intent': 'recommend_comic', 'entities': {'genre': 'mystery'}}, {'user_input': 'I’d like some recommendations for suspenseful thriller comics.', 'intent': 'recommend_comic', 'entities': {'genre': 'thriller'}}, {'user_input': 'Can you point me to some great historical fiction comics?', 'intent': 'recommend_comic', 'entities': {'genre': 'historical fiction'}}, {'user_input': 'What poetry comics would you recommend for a relaxing read?', 'intent': 'recommend_comic', 'entities': {'genre': 'poetry'}}, {'user_input': 'I want to read some comics in Korean. Any recommendations?', 'intent': 'recommend_comic', 'entities': {'language': 'Korean'}}, {'user_input': 'Can you suggest some manga in Japanese?', 'intent': 'recommend_comic', 'entities': {'language': 'Japanese'}}, {'user_input': 'What about some comics in Chinese?', 'intent': 'recommend_comic', 'entities': {'language': 'Chinese'}}, {'user_input': 'Give me some recommendations for comics in French.', 'intent': 'recommend_comic', 'entities': {'language': 'French'}}, {'user_input': 'I’m looking for American graphic novels. Any suggestions?', 'intent': 'recommend_comic', 'entities': {'language': 'American'}}, {'user_input': 'What are some good superhero comics in Korean?', 'intent': 'recommend_comic', 'entities': {'genre': 'superhero', 'language': 'Korean'}}, {'user_input': 'Suggest some romantic manga in Japanese.', 'intent': 'recommend_comic', 'entities': {'genre': 'romance', 'language': 'Japanese'}}, {'user_input': 'What are some classic comics from France?', 'intent': 'recommend_comic', 'entities': {'genre': 'classic', 'language': 'French'}}, {'user_input': 'What are some great summer comics to read?', 'intent': 'recommend_comic', 'entities': {'season': 'summer'}}, {'user_input': 'Can you suggest some winter comics?', 'intent': 'recommend_comic', 'entities': {'season': 'winter'}}, {'user_input': 'What fall comics do you recommend?', 'intent': 'recommend_comic', 'entities': {'season': 'fall'}}, {'user_input': 'What are some enjoyable spring comics?', 'intent': 'recommend_comic', 'entities': {'season': 'spring'}}, {'user_input': 'What movie do you suggest for a romantic evening?', 'intent': 'recommend_movie', 'entities': {'genre': 'romance'}}, {'user_input': 'Give me a thriller movie recommendation.', 'intent': 'recommend_movie', 'entities': {'genre': 'thriller'}}, {'user_input': 'Any good horror movies to watch?', 'intent': 'recommend_movie', 'entities': {'genre': 'horror'}}, {'user_input': 'Can you recommend a Korean movie?', 'intent': 'recommend_movie', 'entities': {'language': 'Korean'}}, {'user_input': 'What are some classic American films?', 'intent': 'recommend_movie', 'entities': {'language': 'American'}}, {'user_input': 'What are some great summer movies to watch?', 'intent': 'recommend_movie', 'entities': {'season': 'summer'}}, {'user_input': 'Can you suggest some winter movies?', 'intent': 'recommend_movie', 'entities': {'season': 'winter'}}, {'user_input': 'What fall movies do you recommend?', 'intent': 'recommend_movie', 'entities': {'season': 'fall'}}, {'user_input': 'What are some enjoyable spring movies?', 'intent': 'recommend_movie', 'entities': {'season': 'spring'}}, {'user_input': 'What are some great adventure movies?', 'intent': 'recommend_movie', 'entities': {'genre': 'adventure'}}, {'user_input': 'Can you suggest a sci-fi movie for me?', 'intent': 'recommend_movie', 'entities': {'genre': 'science fiction'}}, {'user_input': 'What are some good romantic comedies?', 'intent': 'recommend_movie', 'entities': {'genre': 'romantic comedy'}}, {'user_input': 'Do you have any recommendations for mystery movies?', 'intent': 'recommend_movie', 'entities': {'genre': 'mystery'}}, {'user_input': 'Can you recommend some fantasy movies?', 'intent': 'recommend_movie', 'entities': {'genre': 'fantasy'}}, {'user_input': 'What are some classic animated films?', 'intent': 'recommend_movie', 'entities': {'genre': 'animated'}}, {'user_input': 'Can you recommend a documentary film?', 'intent': 'recommend_movie', 'entities': {'genre': 'documentary'}}, {'user_input': 'Hello!', 'intent': 'greetings', 'entities': {}}, {'user_input': 'Hi there!', 'intent': 'greetings', 'entities': {}}, {'user_input': 'Good morning!', 'intent': 'greetings', 'entities': {}}, {'user_input': 'Hey, how are you?', 'intent': 'greetings', 'entities': {}}, {'user_input': \"What's up?\", 'intent': 'greetings', 'entities': {}}, {'user_input': 'Greetings!', 'intent': 'greetings', 'entities': {}}, {'user_input': \"How's it going?\", 'intent': 'greetings', 'entities': {}}, {'user_input': 'Nice to see you!', 'intent': 'greetings', 'entities': {}}]\n",
            "{'horror': 'genre', 'adventure': 'genre', 'romance': 'genre', 'melodrama': 'genre', 'fiction': 'genre', 'non-fiction': 'genre', 'fantasy': 'genre', 'science fiction': 'genre', 'mystery': 'genre', 'thriller': 'genre', 'historical fiction': 'genre', 'poetry': 'genre', 'Korean': 'language', 'Japanese': 'language', 'Chinese': 'language', 'French': 'language', 'American': 'language', 'superhero': 'genre', 'classic': 'genre', 'summer': 'season', 'winter': 'season', 'fall': 'season', 'spring': 'season', 'romantic comedy': 'genre', 'animated': 'genre', 'documentary': 'genre'}\n"
          ]
        }
      ]
    },
    {
      "cell_type": "code",
      "source": [
        "def extract_intent(user_input):\n",
        "    labels = [entry['intent'] for entry in dataset]\n",
        "    result = intent_model(user_input, candidate_labels=labels)\n",
        "    return result\n",
        "\n",
        "def extract_entities(user_input):\n",
        "    entities = entity_model(user_input)\n",
        "    annotated_entities = []\n",
        "    for entity in entities:\n",
        "        word = entity['word']\n",
        "        entity_type = entity_types.get(word, 'unknown')\n",
        "        start_position = entity['start']\n",
        "        end_position = entity['end']\n",
        "        annotated_entities.append({\n",
        "            \"word\": word,\n",
        "            \"score\": entity['score'],\n",
        "            \"type\": entity_type,\n",
        "            \"start\": start_position,\n",
        "            \"end\": end_position\n",
        "        })\n",
        "\n",
        "    return annotated_entities\n",
        "\n",
        "feedback_store = []\n",
        "\n",
        "def collect_feedback(user_input, rating):\n",
        "    feedback_store.append({\"input\": user_input, \"rating\": rating})\n",
        "    save_feedback()\n",
        "\n",
        "def save_feedback():\n",
        "    with open('feedback.json', 'w') as f:\n",
        "        json.dump(feedback_store, f, indent=4)\n",
        "\n",
        "def adjust_responses():\n",
        "    for feedback in feedback_store:\n",
        "        if feedback[\"rating\"] < 3:\n",
        "            print(f\"Improve response for: {feedback['input']}\")\n"
      ],
      "metadata": {
        "id": "QRmop-FOQXhQ"
      },
      "execution_count": 156,
      "outputs": []
    },
    {
      "cell_type": "code",
      "source": [
        "def chatbot_response(user_input):\n",
        "    intent_result = extract_intent(user_input)\n",
        "    entities_result = extract_entities(user_input)\n",
        "    best_intent = intent_result['labels'][0]\n",
        "    best_score = intent_result['scores'][0]\n",
        "\n",
        "    if best_intent == \"recommend_comic\":\n",
        "        response = \"Sure! Here are some comic recommendations for you based on your interests.\"\n",
        "    elif best_intent == \"recommend_movie\":\n",
        "        response = \"Absolutely! I can suggest some great movies. What genre are you interested in?\"\n",
        "    elif best_intent == \"greetings\":\n",
        "        response = \"Hello! How can I assist you today?\"\n",
        "    else:\n",
        "        response = \"I'm not sure how to help with that. Could you please provide more details?\"\n",
        "    response += f\"\\nIntent: {best_intent}\\nEntities: {entities_result}\"\n",
        "    return response\n",
        "\n",
        "\n",
        "user_input = \"Can you check some comics about Horror\"\n",
        "response = chatbot_response(user_input)\n",
        "print(response)\n",
        "\n",
        "rating = int(input(\"Rate the response from 1 to 5: \"))\n",
        "collect_feedback(user_input, rating)\n",
        "adjust_responses()\n"
      ],
      "metadata": {
        "colab": {
          "base_uri": "https://localhost:8080/"
        },
        "id": "jemD3YDaQdhH",
        "outputId": "715da41d-ecaf-4eb7-ad6d-6e1991368614"
      },
      "execution_count": 157,
      "outputs": [
        {
          "name": "stdout",
          "output_type": "stream",
          "text": [
            "Sure! Here are some comic recommendations for you based on your interests.\n",
            "Intent: recommend_comic\n",
            "Entities: [{'word': 'Horror', 'score': 0.47618768, 'type': 'unknown', 'start': 32, 'end': 38}]\n",
            "Rate the response from 1 to 5: 5\n"
          ]
        }
      ]
    },
    {
      "cell_type": "code",
      "source": [
        "user_input = input(\"Please type your question or request: \")\n",
        "response = chatbot_response(user_input)\n",
        "print(response)\n",
        "\n",
        "rating = int(input(\"Rate the response from 1 to 5: \"))\n",
        "collect_feedback(user_input, rating)\n",
        "adjust_responses()"
      ],
      "metadata": {
        "colab": {
          "base_uri": "https://localhost:8080/"
        },
        "id": "kwmOdQVTYBPU",
        "outputId": "37789fec-991f-4d1a-8825-8b30ea54c7d1"
      },
      "execution_count": 154,
      "outputs": [
        {
          "output_type": "stream",
          "name": "stdout",
          "text": [
            "Please type your question or request: How about movies in Korean\n",
            "Absolutely! I can suggest some great movies. What genre are you interested in?\n",
            "Intent: recommend_movie\n",
            "Entities: [{'word': 'Korean', 'score': 0.99773115, 'type': 'language', 'start': 20, 'end': 26}]\n",
            "Rate the response from 1 to 5: 2\n",
            "Improve response for: How about movies in Korean\n"
          ]
        }
      ]
    }
  ]
}